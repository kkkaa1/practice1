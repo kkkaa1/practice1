{
 "cells": [
  {
   "cell_type": "markdown",
   "id": "5cdf25e2",
   "metadata": {
    "id": "5cdf25e2"
   },
   "source": [
    "# SCS2013 Python Programming Homework 2 (100pts)\n",
    "\n",
    "About List/Tuple/Dictionaries, Conditional (If-else), Loop (For, While) Statements"
   ]
  },
  {
   "cell_type": "markdown",
   "id": "253f6e04",
   "metadata": {
    "id": "253f6e04"
   },
   "source": [
    "## HW 2-1. List, if, loop statements (30pts)\n",
    "\n",
    "Instruction: \n",
    "\n",
    "1. **(10pt)** 아래의 `random.randint(0,50)`은 $0$부터 $50$ 사이의 임의의 정수를 생성하는 코드입니다. `for`문을 사용하여 총 100개의 랜덤한 정수를 생성하고 이를 원소로 하는 리스트 `random_lst`를 생성하세요.\n",
    "  * for 문, `random.randint(0,50)`과 list 관련 함수를 사용합니다.\n",
    "  \n",
    "    **(EN)** `random.randint(0,50)` below is a code that generates random integer of value between 0 and 50. Use the `for` statement to generate a list `random_lst` with $100$ random integers.\n",
    "    * please use `for` statement, `random.randint(0,50)`and list-related functions.\n",
    "   \n",
    "2. **(10pt)** List의 정렬 함수 `.sort()`를 사용하지 않고, **반복문을 사용하여** `random_lst`를 내림차순으로 정렬하는 코드를 작성하세요. \n",
    "  * 내림차순 정렬: 큰 수부터 작은 수로 배치하는 것.\n",
    "  * 반복문을 사용합니다.\n",
    "\n",
    "    **(EN)** Without using the list sorting function .sort(), write a code that sorts random_lst in `descending order` with loop statements.\n",
    "    * Descending order: Sort from large to small numbers.\n",
    "    * Use loop statements.\n",
    "3. **(10pt)** 반복문과 조건문을 사용하여, 정렬된 `random_lst` 리스트에서 $7$의 배수들만 모아 출력하세요. \n",
    "  * 2에서 사용하지 않은 반복문 문법을 사용합니다. (2에서 `for`를 사용했다면 `while`을 사용해 3을 구현하세요)\n",
    "  * $0$은 $7$의 배수에서 제외합니다.\n",
    "\n",
    "    **(EN)** Print `multiples of 7` from the sorted `random_lst` list using loop and conditional statements. \n",
    "    * Do not use the loop statement you've already used in 2. (If you used `for` in 2, use `while` to implement 3)\n",
    "\n",
    "    * $0$ is excluded from the multiple of $7$.\n",
    "  \n",
    "\n",
    "**실행 결과** | Result:\n",
    "```\n",
    "# 1\n",
    "print(random_lst)\n",
    ">>> [46, 16, 3, 36, 9, 6, 22, 24, 45, 37, 15, 37, 20, 0, 3, 15, 46, 10, 21, 21, 1, 7, 30, 26, 27, 42, 45, 41, 29, 25, 33, 31, 8, 3, 46, 42, 18, 21, 21, 39, 47, 31, 0, 48, 0, 27, 43, 49, 23, 38, 1, 1, 17, 18, 29, 33, 14, 47, 49, 34, 19, 13, 15, 49, 50, 45, 0, 45, 4, 24, 34, 14, 39, 23, 20, 4, 25, 5, 17, 6, 20, 12, 40, 33, 1, 11, 9, 1, 13, 25, 48, 1, 3, 40, 26, 39, 21, 38, 30, 21]\n",
    "\n",
    "# 2 \n",
    "print('A list after sorting in descending order: ', random_lst)\n",
    ">>> A list after sorting in descending order:  [50, 49, 49, 49, 48, 48, 47, 47, 46, 46, 46, 45, 45, 45, 45, 43, 42, 42, 41, 40, 40, 39, 39, 39, 38, 38, 37, 37, 36, 34, 34, 33, 33, 33, 31, 31, 30, 30, 29, 29, 27, 27, 26, 26, 25, 25, 25, 24, 24, 23, 23, 22, 21, 21, 21, 21, 21, 21, 20, 20, 20, 19, 18, 18, 17, 17, 16, 15, 15, 15, 14, 14, 13, 13, 12, 11, 10, 9, 9, 8, 7, 6, 6, 5, 4, 4, 3, 3, 3, 3, 1, 1, 1, 1, 1, 1, 0, 0, 0, 0]\n",
    "\n",
    "# 3\n",
    "Numbers that are multiple of 7 in the list:\n",
    "49\t\n",
    "49\t\n",
    "49\t\n",
    "42\t\n",
    "42\t\n",
    "21\t\n",
    "21\t\n",
    "21\t\n",
    "21\t\n",
    "21\t\n",
    "21\t\n",
    "14\t\n",
    "14\t\n",
    "7\t\t\n",
    "```"
   ]
  },
  {
   "cell_type": "code",
   "execution_count": 3,
   "id": "trdFQXKID33Q",
   "metadata": {
    "id": "trdFQXKID33Q"
   },
   "outputs": [
    {
     "name": "stdout",
     "output_type": "stream",
     "text": [
      "Random generated number:  9\n"
     ]
    }
   ],
   "source": [
    "import random \n",
    "\n",
    "test_val = random.randint(0,50)\n",
    "print('Random generated number: ', test_val)"
   ]
  },
  {
   "cell_type": "code",
   "execution_count": 4,
   "id": "nIbDY3WfRUpz",
   "metadata": {
    "id": "nIbDY3WfRUpz"
   },
   "outputs": [
    {
     "name": "stdout",
     "output_type": "stream",
     "text": [
      "[45, 44, 36, 46, 23, 27, 24, 49, 48, 42, 34, 28, 30, 43, 27, 27, 37, 42, 26, 7, 27, 2, 0, 44, 43, 46, 13, 44, 4, 27, 10, 25, 24, 6, 5, 40, 36, 17, 50, 23, 39, 38, 5, 5, 13, 21, 38, 0, 25, 10, 4, 44, 12, 25, 30, 41, 20, 23, 37, 40, 6, 7, 26, 24, 7, 7, 25, 16, 24, 21, 10, 10, 28, 24, 23, 23, 16, 12, 14, 40, 34, 16, 44, 28, 39, 40, 13, 44, 0, 49, 23, 24, 35, 11, 34, 12, 45, 39, 44, 34]\n"
     ]
    }
   ],
   "source": [
    "import random\n",
    "\n",
    "# 1\n",
    "random_lst = []\n",
    "\n",
    "######### your code here #########\n",
    "\n",
    "for i in range(100):\n",
    "    random_lst.append(random.randint(0,50))\n",
    "    \n",
    "\n",
    "print(random_lst)"
   ]
  },
  {
   "cell_type": "code",
   "execution_count": 11,
   "id": "TO27eHdLR55G",
   "metadata": {
    "id": "TO27eHdLR55G"
   },
   "outputs": [
    {
     "name": "stdout",
     "output_type": "stream",
     "text": [
      "A list after sorting in descending order:  [50, 49, 49, 48, 46, 46, 45, 45, 44, 44, 44, 44, 44, 44, 44, 43, 43, 42, 42, 41, 40, 40, 40, 40, 39, 39, 39, 38, 38, 37, 37, 36, 36, 35, 34, 34, 34, 34, 30, 30, 28, 28, 28, 27, 27, 27, 27, 27, 26, 26, 25, 25, 25, 25, 24, 24, 24, 24, 24, 24, 23, 23, 23, 23, 23, 23, 21, 21, 20, 17, 16, 16, 16, 14, 13, 13, 13, 12, 12, 12, 11, 10, 10, 10, 10, 7, 7, 7, 7, 6, 6, 5, 5, 5, 4, 4, 2, 0, 0, 0]\n"
     ]
    }
   ],
   "source": [
    "# 2\n",
    "######### your code here #########\n",
    "\n",
    "\n",
    "\n",
    "for i in range(100):\n",
    "    for j in range(i,100):\n",
    "        if random_lst[i]<random_lst[j]:\n",
    "            random_lst[i,j]=random_lst[j,i]\n",
    "\n",
    "\n",
    "\n",
    "\n",
    "print('A list after sorting in descending order: ', random_lst)"
   ]
  },
  {
   "cell_type": "code",
   "execution_count": 18,
   "id": "iJAnPZVeR52J",
   "metadata": {
    "id": "iJAnPZVeR52J"
   },
   "outputs": [
    {
     "name": "stdout",
     "output_type": "stream",
     "text": [
      "Numbers that are multiple of 7 in the list:\n",
      "49\n",
      "49\n",
      "42\n",
      "42\n",
      "35\n",
      "28\n",
      "28\n",
      "28\n",
      "21\n",
      "21\n",
      "14\n",
      "7\n",
      "7\n",
      "7\n",
      "7\n"
     ]
    }
   ],
   "source": [
    "# 3\n",
    "print('Numbers that are multiple of 7 in the list:')\n",
    "\n",
    "######### your code here #########\n",
    "i=0\n",
    "while True:\n",
    "    if i==100:\n",
    "        break\n",
    "    if random_lst[i]%7==0 and random_lst[i]!=0:\n",
    "        print(random_lst[i])\n",
    "    i+=1\n",
    "    "
   ]
  },
  {
   "cell_type": "markdown",
   "id": "c5785d40",
   "metadata": {
    "id": "c5785d40"
   },
   "source": [
    "## HW 2-2. Vending Machine (자판기) (45pts)\n",
    "\n",
    "Instruction:\n"
   ]
  },
  {
   "cell_type": "markdown",
   "id": "49UbI0Z1iV1V",
   "metadata": {
    "id": "49UbI0Z1iV1V"
   },
   "source": [
    "1. **(10pt)** 자판기에 있는 음료에 관한 딕셔너리 `dict_drink`를 생성하세요:\n",
    "* 음료의 종류를 key로 가집니다. \n",
    "* 해당 음료의 남은 개수와 하나당 가격을 리스트로 만들어 value로 가집니다.\n",
    "* `orange juice`는 총 5개 남아있고 각 1300원입니다.\n",
    "* `coke`는 총 0개 남아있고 각 800원입니다.\n",
    "\n",
    "    **(EN)** Make a dictionary `dict_drink` that stores the information of different drinks in a vending machine:\n",
    "    * Each type of drink is a key. \n",
    "    * The number of the drink left in the vending machine and the price of the drink is the value.\n",
    "    * `orange juice` has 5 left and costs 1300won.\n",
    "    * `coke` has 0 left and costs 800won.\n",
    "  \n",
    "**실행 결과** | Result:\n",
    "  ```\n",
    "  print(dict_drink)\n",
    "  >>> {'orange juice': [5, 1300], 'coke': [0, 800]}\n",
    "  ```\n",
    "\n",
    "    "
   ]
  },
  {
   "cell_type": "code",
   "execution_count": 19,
   "id": "cKPqx9VHoZQ_",
   "metadata": {
    "id": "cKPqx9VHoZQ_"
   },
   "outputs": [
    {
     "name": "stdout",
     "output_type": "stream",
     "text": [
      "{'orange juice': [5, 1300], 'coke': [0, 800]}\n"
     ]
    }
   ],
   "source": [
    "# 1\n",
    "######### your code here #########\n",
    "dict_drink={'orange juice': [5,1300],'coke':[0,800]}\n",
    "\n",
    "\n",
    "print(dict_drink)"
   ]
  },
  {
   "cell_type": "markdown",
   "id": "6BdlV-OYiNW7",
   "metadata": {
    "id": "6BdlV-OYiNW7"
   },
   "source": [
    "2. **(15pt)** `for`문을 사용하여 `dict_drink`의 내용을 다음과 같이 출력하세요: \n",
    "\n",
    "    **(EN)** Use `for` loop to print the items in `dict_drink`: \n",
    "  ```\n",
    "  orange juice: 1300 won, 5 left.\n",
    "  coke: 800 won, 0 left.\n",
    "  ```\n",
    "\n"
   ]
  },
  {
   "cell_type": "code",
   "execution_count": 20,
   "id": "Xxo4tuhvohSk",
   "metadata": {
    "id": "Xxo4tuhvohSk"
   },
   "outputs": [
    {
     "name": "stdout",
     "output_type": "stream",
     "text": [
      "orange juice:1300 won, 5 left.\n",
      "coke:800 won, 0 left.\n"
     ]
    }
   ],
   "source": [
    "# 2\n",
    "######### your code here #########\n",
    "for i in dict_drink:\n",
    "    print(\"{}:{} won, {} left.\".format(i,dict_drink[i][1],dict_drink[i][0]))"
   ]
  },
  {
   "cell_type": "markdown",
   "id": "scLd4DMEiQt6",
   "metadata": {
    "id": "scLd4DMEiQt6"
   },
   "source": [
    "3. **(20pt)** 다음과 같이 이용자가 마시고자 하는 음료와 가진 돈의 액수가 tuple 형태인 `user_choice`로 주어질 때, e.g., `user_choice = ('coke', 1000)`\n",
    "* 3-1 (5pt): 원하는 음료를 `user_drink` 변수에 저장하고, 가진 돈의 액수를 `user_money`에 저장하세요. \n",
    "* 3-2 (15pt): 다음의 조건들을 체크하고 구현합니다:\n",
    "  * 사용자가 원하는 음료가 자판기에 존재하지 않거나, 혹은 개수가 없다면 다음을 출력합니다:\n",
    "  ```\n",
    "  {음료} is not available!\n",
    "  ```\n",
    "  * 자판기에 존재하는 음료이면서 지불할 돈이 충분하다면 `dict_drink`에서 해당 음료의 개수를 감소시키고, 얼마를 거슬러주어야 하는지 계산하여 다음과 같이 출력합니다:\n",
    "  ```\n",
    "  Here you are: {음료}\n",
    "  Please take {거스름돈} won\n",
    "  ```\n",
    "\n",
    "  * 지불할 돈이 충분하지 않다면 다음을 출력합니다:\n",
    "  ```\n",
    "  Not enough money for {음료}\n",
    "  ```\n",
    "\n",
    "* 2에서 구현한 코드를 사용하여 사용자의 이용 후 적절하게 `dict_drink`가 수정되었는지 확인해봅니다. \n",
    "\n",
    "    **(EN)** When the selected drink and the paid amount by a customer is given in `user_choice`, e.g., `user_choice = ('coke', 1000)`\n",
    "  * 3-1 (5pt): Save the selected drink in `user_drink`, and the paid amount in `user_money`.\n",
    "  * 3-2 (15pt): Implement a code with instructions below:\n",
    "    * If the selected drink is not in the option (orange juice and coke) or has 0 left, print the following:\n",
    "    ```\n",
    "    {drink} is not available!\n",
    "    ```\n",
    "    * If the selected drink is in the option and the paid amount is enough to buy the drink, reduce the number of the drink left in `dict_drink`, and calculate the change and print as follows:\n",
    "    ```\n",
    "    Here you are: {drink}\n",
    "    Please take {change} won\n",
    "    ```\n",
    "\n",
    "    * If the customer did not pay enough:\n",
    "    ```\n",
    "    Not enough money for {drink}\n",
    "    ```\n",
    "\n",
    "  * With the code you programmed on 2, check if the values of `dict_drink` is well modified as planned.\n",
    "\n",
    "\n",
    "**실행 결과** | Result: in case of `user_choice = ('coke', 1000)` \n",
    "```\n",
    "coke is not available!\n",
    "orange juice: 1300 won, 5 left\n",
    "coke: 800 won, 0 left\n",
    "``` \n",
    "\n",
    "실행 결과 | Result: in case of `user_choice = ('orange juice', 1500)`\n",
    "```\n",
    "Here you are: orange juice\n",
    "Please take 200 won\n",
    "orange juice: 1300 won, 4 left\n",
    "coke: 800 won, 0 left\n",
    "``` \n",
    "\n",
    "실행 결과 | Result: in case of `user_choice = ('water', 500)` \n",
    "```\n",
    "water is not available!\n",
    "orange juice: 1300 won, 5 left\n",
    "coke: 800 won, 0 left\n",
    "```\n",
    "\n",
    "실행 결과 | Result: in case of `user_choice = ('orange juice', 600)` \n",
    "```\n",
    "Not enough money for orange juice\n",
    "orange juice: 1300 won, 5 left\n",
    "coke: 800 won, 0 left\n",
    "```"
   ]
  },
  {
   "cell_type": "code",
   "execution_count": 31,
   "id": "g75fLswVohKN",
   "metadata": {
    "id": "g75fLswVohKN"
   },
   "outputs": [
    {
     "name": "stdout",
     "output_type": "stream",
     "text": [
      "coke is not available!\n",
      "orange juice:1300 won, 5 left.\n",
      "coke:800 won, 0 left.\n"
     ]
    }
   ],
   "source": [
    "# 3\n",
    "user_choice = ('coke', 1000)\n",
    "#user_choice = ('orange juice', 1500)\n",
    "#user_choice = ('orange juice', 1300)\n",
    "#user_choice = ('orange juice', 600)\n",
    "#user_choice = ('water', 500)\n",
    "\n",
    "######### your code here #########\n",
    "# 3-1 get user_drink and user_money\n",
    "user_drink=user_choice[0]\n",
    "user_money=user_choice[1]\n",
    "\n",
    "dict_drink={'orange juice': [5,1300],'coke':[0,800]}\n",
    "\n",
    "\n",
    "# 3-2 check conditions: \n",
    "if (user_drink not in dict_drink) or dict_drink[user_drink][0]==0:\n",
    "    print(\"{} is not available!\".format(user_drink))\n",
    "elif user_drink in dict_drink and user_money>= dict_drink[user_drink][1]:\n",
    "    print(\"Here you are: {}\".format(user_drink))\n",
    "    user_money=user_money-dict_drink[user_drink][1]\n",
    "    dict_drink[user_drink][0]=dict_drink[user_drink][0]-1\n",
    "    print(\"Please take {} won\".format(user_money))\n",
    "else:\n",
    "    print(\"Not enough money for {}\".format(user_drink))\n",
    "\n",
    "\n",
    "# check dictionary using the code you implemented in #2\n",
    "for i in dict_drink:\n",
    "    print(\"{}:{} won, {} left.\".format(i,dict_drink[i][1],dict_drink[i][0]))"
   ]
  },
  {
   "cell_type": "markdown",
   "id": "WX21mBdJqSWK",
   "metadata": {
    "id": "WX21mBdJqSWK"
   },
   "source": [
    "## HW 2-3. List, Dictionary, Loop, If (25pts)\n",
    "\n",
    "Instruction:\n",
    "\n",
    "리스트 `lst_A`가 주어질 때, 각 *원소의 값*과 그 *원소가 나타난 횟수*를 key-value로 하는 딕셔너리 `dict_count`를 생성하세요. \n",
    "* 리스트는 다양한 자료형을 원소로 포함할 수 있습니다.\n",
    "* 반복문과 조건문을 사용하며, 딕셔너리에 새로운 key-value를 추가하거나 기존의 값을 수정할 수 있어야 합니다.\n",
    "\n",
    "    **(EN)** Given the list `lst_A`, create a dictionary `dict_count` where the key-value pair takes *the value of each element in `lst_A`* and *the number of occurrences of the element in `lst_A`*.\n",
    "    * The list can contain multiple data types as elements.\n",
    "    * Use loop and conditional statements, and the dictionary should be editable (e.g., add key-pair)\n",
    "\n",
    "**실행 결과** | Result: \n",
    "```\n",
    "Original list: [True, 10, 3, 'a', 3, 'b', 'a', '10', 'hello', True, 'True']\n",
    "Count dictionary: {True: 2, 10: 1, 3: 2, 'a': 2, 'b': 1, '10': 1, 'hello': 1, 'True': 1}\n",
    "```"
   ]
  },
  {
   "cell_type": "code",
   "execution_count": 35,
   "id": "hHrcLS7gtu9j",
   "metadata": {
    "id": "hHrcLS7gtu9j"
   },
   "outputs": [
    {
     "name": "stdout",
     "output_type": "stream",
     "text": [
      "Original list: [True, 10, 3, 'a', 3, 'b', 'a', '10', 'hello', True, 'True']\n",
      "Count dictionary: {True: 2, 10: 1, 3: 2, 'a': 2, 'b': 1, '10': 1, 'hello': 1, 'True': 1}\n"
     ]
    }
   ],
   "source": [
    "lst_A = [True,10,3,'a',3,'b','a','10','hello',True,'True']\n",
    "\n",
    "dict_count = {}\n",
    "\n",
    "######### your code here #########\n",
    "\n",
    "for i in lst_A:\n",
    "    dict_count[i]=lst_A.count(i)\n",
    "\n",
    "print('Original list:', lst_A)\n",
    "print('Count dictionary:', dict_count)"
   ]
  }
 ],
 "metadata": {
  "colab": {
   "collapsed_sections": [],
   "provenance": []
  },
  "kernelspec": {
   "display_name": "Python 3 (ipykernel)",
   "language": "python",
   "name": "python3"
  },
  "language_info": {
   "codemirror_mode": {
    "name": "ipython",
    "version": 3
   },
   "file_extension": ".py",
   "mimetype": "text/x-python",
   "name": "python",
   "nbconvert_exporter": "python",
   "pygments_lexer": "ipython3",
   "version": "3.9.12"
  },
  "vscode": {
   "interpreter": {
    "hash": "4f47db039316e8c8cb83e1a6b80f71475094dc18f64932e6ee413cb9548e859d"
   }
  }
 },
 "nbformat": 4,
 "nbformat_minor": 5
}
