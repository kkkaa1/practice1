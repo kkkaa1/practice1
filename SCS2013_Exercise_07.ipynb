{
 "cells": [
  {
   "cell_type": "markdown",
   "metadata": {
    "id": "EzZiRhCEg1JC"
   },
   "source": [
    "# SCS2013 Exercise 07 (2022-Fall)\n",
    "\n",
    "**This exercise notebook will go through the \"Functions\" in Python:**\n",
    "\n",
    "* Python function arguments\n",
    "* Resursion \n",
    "* Python Lambda\n",
    "\n",
    "\n",
    "\n"
   ]
  },
  {
   "cell_type": "markdown",
   "metadata": {
    "id": "t54cHgzWAsHK"
   },
   "source": [
    "## Python Function Arguments\n",
    "\n",
    "In Python functions, information can be passed into functions as parameters \n",
    "\n",
    "- **parameter** is the variable listed inside the () in the function definition\n",
    "- **argument** is the value that is sent to the function when it is called \n",
    "\n",
    "We can add as many parameters as we want by separating them with a comma \",\""
   ]
  },
  {
   "cell_type": "markdown",
   "metadata": {
    "id": "RuncRudhjfk3"
   },
   "source": [
    "### Positional Arguments\n",
    "By default, functions have a fixed number of arguments, and a function must be called with the correct number and position of arguments - called **\"positional arguments\"** "
   ]
  },
  {
   "cell_type": "code",
   "execution_count": 7,
   "metadata": {
    "id": "wIVGBRoONfgY"
   },
   "outputs": [
    {
     "ename": "SyntaxError",
     "evalue": "positional argument follows keyword argument (2234421162.py, line 7)",
     "output_type": "error",
     "traceback": [
      "\u001b[1;36m  Input \u001b[1;32mIn [7]\u001b[1;36m\u001b[0m\n\u001b[1;33m    my_func( name1='Alice','kim')\u001b[0m\n\u001b[1;37m                                ^\u001b[0m\n\u001b[1;31mSyntaxError\u001b[0m\u001b[1;31m:\u001b[0m positional argument follows keyword argument\n"
     ]
    }
   ],
   "source": [
    "# my_func with two arguments \n",
    "def my_func(name1, name2):\n",
    "  print(f'Name 1 is {name1}, Name 2 is {name2}')\n",
    "\n",
    "# when call a function, we need to pass two arguments in the order \n",
    "my_func('Alice', 'Kim')\n",
    "my_func( name1='Alice','kim')"
   ]
  },
  {
   "cell_type": "code",
   "execution_count": 2,
   "metadata": {
    "id": "zhOisQYdkNNs"
   },
   "outputs": [
    {
     "ename": "TypeError",
     "evalue": "my_func() missing 1 required positional argument: 'name2'",
     "output_type": "error",
     "traceback": [
      "\u001b[1;31m---------------------------------------------------------------------------\u001b[0m",
      "\u001b[1;31mTypeError\u001b[0m                                 Traceback (most recent call last)",
      "Input \u001b[1;32mIn [2]\u001b[0m, in \u001b[0;36m<cell line: 2>\u001b[1;34m()\u001b[0m\n\u001b[0;32m      1\u001b[0m \u001b[38;5;66;03m# what if try to call the function with different number of arguments?\u001b[39;00m\n\u001b[1;32m----> 2\u001b[0m \u001b[43mmy_func\u001b[49m\u001b[43m(\u001b[49m\u001b[38;5;124;43m'\u001b[39;49m\u001b[38;5;124;43mAlice\u001b[39;49m\u001b[38;5;124;43m'\u001b[39;49m\u001b[43m)\u001b[49m\n",
      "\u001b[1;31mTypeError\u001b[0m: my_func() missing 1 required positional argument: 'name2'"
     ]
    }
   ],
   "source": [
    "# what if try to call the function with different number of arguments?\n",
    "my_func('Alice')"
   ]
  },
  {
   "cell_type": "code",
   "execution_count": 3,
   "metadata": {
    "id": "LZed2iEpNvGn"
   },
   "outputs": [
    {
     "ename": "TypeError",
     "evalue": "my_func() missing 2 required positional arguments: 'name1' and 'name2'",
     "output_type": "error",
     "traceback": [
      "\u001b[1;31m---------------------------------------------------------------------------\u001b[0m",
      "\u001b[1;31mTypeError\u001b[0m                                 Traceback (most recent call last)",
      "Input \u001b[1;32mIn [3]\u001b[0m, in \u001b[0;36m<cell line: 2>\u001b[1;34m()\u001b[0m\n\u001b[0;32m      1\u001b[0m \u001b[38;5;66;03m# no argument?\u001b[39;00m\n\u001b[1;32m----> 2\u001b[0m \u001b[43mmy_func\u001b[49m\u001b[43m(\u001b[49m\u001b[43m)\u001b[49m\n",
      "\u001b[1;31mTypeError\u001b[0m: my_func() missing 2 required positional arguments: 'name1' and 'name2'"
     ]
    }
   ],
   "source": [
    "# no argument?\n",
    "my_func()"
   ]
  },
  {
   "cell_type": "markdown",
   "metadata": {
    "id": "_UNdfFRhxaSW"
   },
   "source": [
    "### Arbitrary Positional Arguments\n",
    "\n",
    "Sometimes, we do not know in advance the number of arguments that will be passed into a function. Python allows us to handle this scenario: calling a function with an arbitrary number of arguments - **arbitrary (positional) arguments: `*args`**\n",
    "\n",
    "In the function definition, we use an ($*$) before the parameter name to denote this kind of argument as a **\"tuple\"**. "
   ]
  },
  {
   "cell_type": "code",
   "execution_count": 4,
   "metadata": {
    "id": "DZKUaw6jkTjm"
   },
   "outputs": [],
   "source": [
    "def hello_all(*names):\n",
    "    print(names) \n",
    "    print(type(names))\n",
    "\n",
    "    # print all the names in the 'names' tuple\n",
    "    for name in names:\n",
    "    print(f'Hello! {name}')\n",
    "\n",
    "    # print all the names in the 'names' tuple using index\n",
    "    for i in range(len(names)):\n",
    "    print(f'Name {i}: {names[i]}')"
   ]
  },
  {
   "cell_type": "code",
   "execution_count": 5,
   "metadata": {
    "id": "h60rpFuryaIL"
   },
   "outputs": [
    {
     "name": "stdout",
     "output_type": "stream",
     "text": [
      "('Alice', 'John', 'Peter', 'Emma')\n",
      "<class 'tuple'>\n",
      "Hello! Alice\n",
      "Hello! John\n",
      "Hello! Peter\n",
      "Hello! Emma\n",
      "Name 0: Alice\n",
      "Name 1: John\n",
      "Name 2: Peter\n",
      "Name 3: Emma\n"
     ]
    }
   ],
   "source": [
    "hello_all('Alice','John','Peter','Emma')"
   ]
  },
  {
   "cell_type": "code",
   "execution_count": 6,
   "metadata": {
    "id": "nLLLdpMgyrS4"
   },
   "outputs": [
    {
     "name": "stdout",
     "output_type": "stream",
     "text": [
      "('Peter', 'Alice', 'David')\n",
      "<class 'tuple'>\n",
      "Hello! Peter\n",
      "Hello! Alice\n",
      "Hello! David\n",
      "Name 0: Peter\n",
      "Name 1: Alice\n",
      "Name 2: David\n"
     ]
    }
   ],
   "source": [
    "hello_all('Peter','Alice','David')"
   ]
  },
  {
   "cell_type": "markdown",
   "metadata": {
    "id": "PcjNK6jNzF93"
   },
   "source": [
    "### Keyword Arguments \n",
    "\n",
    "When we call a function with some values, these values get assigned to the arguments according to their position. Python allows functions to be called using **keyword arguments: `kwargs`** - the order of the arguments can be changed. "
   ]
  },
  {
   "cell_type": "code",
   "execution_count": 8,
   "metadata": {
    "id": "D8XirtA21ApT"
   },
   "outputs": [],
   "source": [
    "# msg function with three arguments\n",
    "\n",
    "def msg(name, msg1, msg2): \n",
    "  print(f'Hello {name}, {msg1} and {msg2}')"
   ]
  },
  {
   "cell_type": "code",
   "execution_count": 10,
   "metadata": {
    "id": "KoT5pseVyyXc"
   },
   "outputs": [
    {
     "name": "stdout",
     "output_type": "stream",
     "text": [
      "Hello Alice, Good morning and How are you?\n",
      "Hello Alice, Good morning and How are you?\n",
      "Hello Alice, Good morning and How are you?\n",
      "Hello Alice, Good morning and How are you?\n"
     ]
    }
   ],
   "source": [
    "# three positional arguments \n",
    "msg('Alice','Good morning', 'How are you?')\n",
    "\n",
    "# three keyword arguments\n",
    "msg(name='Alice', msg1='Good morning', msg2 = 'How are you?')\n",
    "\n",
    "# three keyword arguments with different order\n",
    "msg(msg2 = 'How are you?', name='Alice', msg1 = 'Good morning')\n",
    "\n",
    "# one positional argument and two keyword arguments\n",
    "msg('Alice' , msg2 = 'How are you?', msg1='Good morning')"
   ]
  },
  {
   "cell_type": "markdown",
   "metadata": {
    "id": "Q7SQKvzp142h"
   },
   "source": [
    "We can mix positional arguments with keyword arguments during a function call - but positional arguments first and then keyword arguments. "
   ]
  },
  {
   "cell_type": "code",
   "execution_count": 11,
   "metadata": {
    "id": "wVMjbel71Vc3"
   },
   "outputs": [
    {
     "ename": "TypeError",
     "evalue": "msg() got multiple values for argument 'msg1'",
     "output_type": "error",
     "traceback": [
      "\u001b[1;31m---------------------------------------------------------------------------\u001b[0m",
      "\u001b[1;31mTypeError\u001b[0m                                 Traceback (most recent call last)",
      "Input \u001b[1;32mIn [11]\u001b[0m, in \u001b[0;36m<cell line: 2>\u001b[1;34m()\u001b[0m\n\u001b[0;32m      1\u001b[0m \u001b[38;5;66;03m# one keyword argument first and then two positional arguments\u001b[39;00m\n\u001b[1;32m----> 2\u001b[0m \u001b[43mmsg\u001b[49m\u001b[43m(\u001b[49m\u001b[43m \u001b[49m\u001b[38;5;124;43m'\u001b[39;49m\u001b[38;5;124;43mAlice\u001b[39;49m\u001b[38;5;124;43m'\u001b[39;49m\u001b[43m,\u001b[49m\u001b[38;5;124;43m'\u001b[39;49m\u001b[38;5;124;43mHow are you?\u001b[39;49m\u001b[38;5;124;43m'\u001b[39;49m\u001b[43m \u001b[49m\u001b[43m,\u001b[49m\u001b[43mmsg1\u001b[49m\u001b[38;5;241;43m=\u001b[39;49m\u001b[38;5;124;43m'\u001b[39;49m\u001b[38;5;124;43mGood morning\u001b[39;49m\u001b[38;5;124;43m'\u001b[39;49m\u001b[43m)\u001b[49m\n",
      "\u001b[1;31mTypeError\u001b[0m: msg() got multiple values for argument 'msg1'"
     ]
    }
   ],
   "source": [
    "# one keyword argument first and then two positional arguments\n",
    "msg( 'Alice','How are you?' ,msg1='Good morning')"
   ]
  },
  {
   "cell_type": "markdown",
   "metadata": {
    "id": "crWbSfty2kve"
   },
   "source": [
    "### Arbitrary Keyword Arguments\n",
    "\n",
    "If we do not know how many keyword arguments will be passed into a function - **arbitrary keyword arguments**. In the function definition, we use an ($**$) before the parameter name to denote this kind of argument as a **\"dictionary\"**.\n"
   ]
  },
  {
   "cell_type": "code",
   "execution_count": 21,
   "metadata": {
    "id": "m0MxTFzW2fNc"
   },
   "outputs": [],
   "source": [
    "def hello_all(**names):\n",
    "    print(names)\n",
    "    print(type(names))\n",
    "\n",
    "  # print all the names in the 'names' dictionary\n",
    "    for i in (sorted(names.keys())):\n",
    "        print(f'Key: {i}, Value: {names[i]}')"
   ]
  },
  {
   "cell_type": "code",
   "execution_count": 23,
   "metadata": {
    "id": "pPRoYAPo4h7B"
   },
   "outputs": [
    {
     "name": "stdout",
     "output_type": "stream",
     "text": [
      "{'name1': 'Alice', 'name2': 'John', 'name3': 'Peter', 'name4': 'Emma'}\n",
      "<class 'dict'>\n",
      "Key: name1, Value: Alice\n",
      "Key: name2, Value: John\n",
      "Key: name3, Value: Peter\n",
      "Key: name4, Value: Emma\n"
     ]
    }
   ],
   "source": [
    "hello_all(name1='Alice', name2='John', name3='Peter', name4='Emma')"
   ]
  },
  {
   "cell_type": "code",
   "execution_count": 17,
   "metadata": {
    "id": "9MH0zGrd4vbh"
   },
   "outputs": [
    {
     "name": "stdout",
     "output_type": "stream",
     "text": [
      "{'name2': 'Peter', 'name4': 'Alice', 'name1': 'David'}\n",
      "<class 'dict'>\n",
      "Key: name1, Value: David\n",
      "Key: name2, Value: Peter\n",
      "Key: name4, Value: Alice\n"
     ]
    }
   ],
   "source": [
    "hello_all(name2='Peter',name4='Alice',name1='David')"
   ]
  },
  {
   "cell_type": "markdown",
   "metadata": {
    "id": "Pjc1VR386SqM"
   },
   "source": [
    "**Default Arguments**\n",
    "\n",
    "Function arguments can have default values in Python. We can assign a default value to an argument in function definition using assignment operator \"=\". Default arguments take the default value during the function call if we don't pass them. "
   ]
  },
  {
   "cell_type": "code",
   "execution_count": 24,
   "metadata": {
    "id": "lZ6nWty243oC"
   },
   "outputs": [],
   "source": [
    "# msg function with two arguments, set a default msg value 'Good morning'\n",
    "\n",
    "def msg(name, msg='Good morning'):\n",
    "  print(f'Hello {name}, {msg}')"
   ]
  },
  {
   "cell_type": "code",
   "execution_count": 25,
   "metadata": {
    "id": "Cwe6aFmc6vbN"
   },
   "outputs": [
    {
     "name": "stdout",
     "output_type": "stream",
     "text": [
      "Hello Peter, Good to see you\n",
      "Hello Peter, Good to see you\n",
      "Hello Peter, Good morning\n"
     ]
    }
   ],
   "source": [
    "# call with two arguments \n",
    "msg('Peter', 'Good to see you')\n",
    "\n",
    "# call with keyword arguments \n",
    "msg(msg='Good to see you', name='Peter')\n",
    "\n",
    "# call with only non-default argument\n",
    "msg('Peter')"
   ]
  },
  {
   "cell_type": "markdown",
   "metadata": {
    "id": "l9rjmfh7_ve6"
   },
   "source": [
    "Any number of argument in a function can have a default value. But once we have a default argument, all the arguments to its right must also have default values - non-default arguments first and then default arguments. "
   ]
  },
  {
   "cell_type": "code",
   "execution_count": 28,
   "metadata": {
    "id": "pYUT1Fsk_m_Z"
   },
   "outputs": [],
   "source": [
    "# when defining function, non-default argument first and then default arguments \n",
    "def msg( msg,name='Kim'):\n",
    "  print(f'Hello {name}, {msg}')"
   ]
  },
  {
   "cell_type": "markdown",
   "metadata": {
    "id": "3DgM538rA0f1"
   },
   "source": [
    "## Recursion (재귀함수)\n",
    "\n",
    "A recursive function is a function that calls itself, again and again \n"
   ]
  },
  {
   "cell_type": "code",
   "execution_count": 29,
   "metadata": {
    "id": "EVcFD6GiyFLP"
   },
   "outputs": [],
   "source": [
    "# factorial n! = 1x2x...x(n-1)xn\n",
    "\n",
    "def factorial(n):\n",
    "  if n == 1:\n",
    "    return 1\n",
    "  else:\n",
    "    print(f'In factorial({n}): call function factorial({n-1})')\n",
    "    return n * factorial(n-1)"
   ]
  },
  {
   "cell_type": "code",
   "execution_count": 30,
   "metadata": {
    "id": "HFCvxI-yyPXA"
   },
   "outputs": [
    {
     "name": "stdout",
     "output_type": "stream",
     "text": [
      "In factorial(5): call function factorial(4)\n",
      "In factorial(4): call function factorial(3)\n",
      "In factorial(3): call function factorial(2)\n",
      "In factorial(2): call function factorial(1)\n",
      "The factorial of 5 is 120\n"
     ]
    }
   ],
   "source": [
    "num = 5\n",
    "print(f'The factorial of {num} is {factorial(num)}')"
   ]
  },
  {
   "cell_type": "code",
   "execution_count": 31,
   "metadata": {
    "id": "um-el4POWxzQ"
   },
   "outputs": [
    {
     "name": "stdout",
     "output_type": "stream",
     "text": [
      "5\n",
      "4\n",
      "3\n",
      "2\n",
      "1\n"
     ]
    }
   ],
   "source": [
    "def recur1(n):\n",
    "  if n > 0:\n",
    "    print(n)\n",
    "    recur1(n-1)\n",
    "\n",
    "recur1(5)"
   ]
  },
  {
   "cell_type": "code",
   "execution_count": 34,
   "metadata": {
    "id": "IUj0UETDW3hk"
   },
   "outputs": [
    {
     "name": "stdout",
     "output_type": "stream",
     "text": [
      "1\n",
      "2\n",
      "3\n",
      "4\n",
      "5\n"
     ]
    }
   ],
   "source": [
    "def recur2(n):\n",
    "  if n > 0:\n",
    "    recur2(n-1)\n",
    "    print(n)\n",
    "\n",
    "recur2(5)"
   ]
  },
  {
   "cell_type": "code",
   "execution_count": 35,
   "metadata": {},
   "outputs": [
    {
     "name": "stdout",
     "output_type": "stream",
     "text": [
      "1\n",
      "2\n",
      "3\n",
      "4\n",
      "5\n"
     ]
    }
   ],
   "source": [
    "def recur2(n):\n",
    "    if n>0:\n",
    "        recur2(n-1)\n",
    "        print(n)\n",
    "recur2(5)"
   ]
  },
  {
   "cell_type": "code",
   "execution_count": 36,
   "metadata": {
    "id": "RSnfX_PnYhZx"
   },
   "outputs": [
    {
     "name": "stdout",
     "output_type": "stream",
     "text": [
      "9: *********\n",
      "7: *******\n",
      "5: *****\n",
      "3: ***\n",
      "1: *\n",
      "Less than zero\n"
     ]
    }
   ],
   "source": [
    "# recursion example: counting backward \n",
    "def backward(num):\n",
    "  if num <= 0:\n",
    "    print('Less than zero')\n",
    "    return\n",
    "  else:\n",
    "    my_str=''\n",
    "    for i in range(num):\n",
    "      my_str += '*'\n",
    "    \n",
    "    print(f'{num}: {my_str}')\n",
    "    backward(num - 2)\n",
    "\n",
    "backward(9)"
   ]
  },
  {
   "cell_type": "code",
   "execution_count": 37,
   "metadata": {
    "id": "nE0bqshgZFeo"
   },
   "outputs": [
    {
     "name": "stdout",
     "output_type": "stream",
     "text": [
      "5 4 3 2 1\n",
      "15\n"
     ]
    }
   ],
   "source": [
    "# recursion example: sum of number from 1 to n\n",
    "def sum_nums(n):\n",
    "  if n == 1:\n",
    "    print(f'{n}')\n",
    "    return 1\n",
    "  else:\n",
    "    print(f'{n}', end=' ')\n",
    "    return n + sum_nums(n-1)\n",
    "\n",
    "print(sum_nums(5))"
   ]
  },
  {
   "cell_type": "markdown",
   "metadata": {
    "id": "IAxPiriyA3oM"
   },
   "source": [
    "## Python Lambda\n",
    "\n",
    "**Lambda**, called the anonymous function, is used to declare a **function without any name**. The lambda internally returns the expression value.\n",
    "\n",
    "Syntax\n",
    "```\n",
    "lambda <variable name>:<statement>\n",
    "```\n",
    "\n"
   ]
  },
  {
   "cell_type": "code",
   "execution_count": 38,
   "metadata": {
    "id": "Ou0KsnUa0xMG"
   },
   "outputs": [
    {
     "name": "stdout",
     "output_type": "stream",
     "text": [
      "81\n"
     ]
    }
   ],
   "source": [
    "# normal function\n",
    "def a(x,y):\n",
    "  return x**y\n",
    "\n",
    "print(a(3,4))"
   ]
  },
  {
   "cell_type": "code",
   "execution_count": 40,
   "metadata": {
    "id": "XVI8minb00X8"
   },
   "outputs": [
    {
     "name": "stdout",
     "output_type": "stream",
     "text": [
      "<function <lambda> at 0x000002C84D7CFD30>\n",
      "81\n"
     ]
    }
   ],
   "source": [
    "# lambda function\n",
    "print(lambda x,y: x**y)\n",
    "\n",
    "a = lambda x,y: x**y\n",
    "print(a(3,4))"
   ]
  },
  {
   "cell_type": "code",
   "execution_count": 41,
   "metadata": {
    "id": "gO9U84jp5_ei"
   },
   "outputs": [],
   "source": [
    "def multiple_func(n):\n",
    "  return lambda x:x*n\n",
    "\n",
    "my_double = multiple_func(2)\n",
    "my_triple = multiple_func(3)"
   ]
  },
  {
   "cell_type": "code",
   "execution_count": 42,
   "metadata": {
    "id": "k37EGei5WRJ6"
   },
   "outputs": [
    {
     "name": "stdout",
     "output_type": "stream",
     "text": [
      "<class 'function'>\n",
      "<function multiple_func.<locals>.<lambda> at 0x000002C84CFF0310>\n"
     ]
    }
   ],
   "source": [
    "print(type(my_double))\n",
    "print(my_double)"
   ]
  },
  {
   "cell_type": "code",
   "execution_count": 43,
   "metadata": {
    "id": "LR2-EKeH6W6E"
   },
   "outputs": [
    {
     "name": "stdout",
     "output_type": "stream",
     "text": [
      "10\n",
      "15\n"
     ]
    }
   ],
   "source": [
    "num = 5\n",
    "\n",
    "double_num = my_double(num)\n",
    "triple_num = my_triple(num)\n",
    "\n",
    "print(double_num)\n",
    "print(triple_num)"
   ]
  },
  {
   "cell_type": "markdown",
   "metadata": {
    "id": "61RkwCPj3NmD"
   },
   "source": [
    "### filter()\n",
    "**filter()** function is used to return the filtered value. \n",
    "``filter(function, iterable)`` - the `function` performs condition checking for each item in `iterable` and return the items for which has 'True' evaluation."
   ]
  },
  {
   "cell_type": "code",
   "execution_count": 58,
   "metadata": {
    "id": "wpPxD27d1K4i"
   },
   "outputs": [
    {
     "name": "stdout",
     "output_type": "stream",
     "text": [
      "[10, 4, 22]\n"
     ]
    },
    {
     "ename": "TypeError",
     "evalue": "'newlst' is an invalid keyword argument for print()",
     "output_type": "error",
     "traceback": [
      "\u001b[1;31m---------------------------------------------------------------------------\u001b[0m",
      "\u001b[1;31mTypeError\u001b[0m                                 Traceback (most recent call last)",
      "Input \u001b[1;32mIn [58]\u001b[0m, in \u001b[0;36m<cell line: 14>\u001b[1;34m()\u001b[0m\n\u001b[0;32m     12\u001b[0m even_lst \u001b[38;5;241m=\u001b[39m select_evens(lst_a)\n\u001b[0;32m     13\u001b[0m \u001b[38;5;28mprint\u001b[39m(even_lst)\n\u001b[1;32m---> 14\u001b[0m \u001b[38;5;28;43mprint\u001b[39;49m\u001b[43m(\u001b[49m\u001b[43mnewlst\u001b[49m\u001b[38;5;241;43m=\u001b[39;49m\u001b[38;5;28;43mlist\u001b[39;49m\u001b[43m(\u001b[49m\u001b[38;5;28;43mfilter\u001b[39;49m\u001b[43m(\u001b[49m\u001b[38;5;28;43mint\u001b[39;49m\u001b[43m,\u001b[49m\u001b[43mlst_a\u001b[49m\u001b[43m)\u001b[49m\u001b[43m)\u001b[49m\u001b[43m)\u001b[49m\n",
      "\u001b[1;31mTypeError\u001b[0m: 'newlst' is an invalid keyword argument for print()"
     ]
    }
   ],
   "source": [
    "# a function that selects all even numbers in the list\n",
    "\n",
    "def select_evens(nums):\n",
    "  lst = []\n",
    "  for x in nums:\n",
    "    if x%2 == 0:\n",
    "      lst.append(x)\n",
    "  \n",
    "  return lst\n",
    "\n",
    "lst_a = [10, 4, 7, 3, 22, 5, 13]\n",
    "even_lst = select_evens(lst_a)\n",
    "print(even_lst)"
   ]
  },
  {
   "cell_type": "code",
   "execution_count": 59,
   "metadata": {
    "id": "A0zH1HOl1KuF"
   },
   "outputs": [
    {
     "name": "stdout",
     "output_type": "stream",
     "text": [
      "[10, 4, 22]\n"
     ]
    }
   ],
   "source": [
    "# a function that selects all even numbers in the list \n",
    "# by using filter() and lambda\n",
    "\n",
    "lst_a = [10, 4, 7, 3, 22, 5, 13]\n",
    "even_lst = list(filter(lambda x:x%2 == 0, lst_a))\n",
    "print(even_lst)"
   ]
  },
  {
   "cell_type": "markdown",
   "metadata": {
    "id": "HWGUrAvh4GvK"
   },
   "source": [
    "### map()\n",
    "**map()** function is used to apply some `function` for every element present in the given `iterable`: `map(function, iterable)`."
   ]
  },
  {
   "cell_type": "code",
   "execution_count": 60,
   "metadata": {
    "id": "g3Ut3iaU2Mg4"
   },
   "outputs": [
    {
     "name": "stdout",
     "output_type": "stream",
     "text": [
      "[1000, 64, 343, 27, 10648, 125, 2197]\n"
     ]
    }
   ],
   "source": [
    "# a function that provides a cube of the given list:\n",
    "\n",
    "lst_a = [10, 4, 7, 3, 22, 5, 13]\n",
    "cube_lst = list(map(lambda x:x**3, lst_a))\n",
    "print(cube_lst)"
   ]
  },
  {
   "cell_type": "code",
   "execution_count": 61,
   "metadata": {
    "id": "sek6DoY8xo_V"
   },
   "outputs": [
    {
     "name": "stdout",
     "output_type": "stream",
     "text": [
      "[('James', '17/05/2001', '175cm'), ('Alice', '25/11/1998', '163cm'), ('Peter', '25/08/1999', '182cm')]\n",
      "Student names: \n",
      "['James', 'Alice', 'Peter']\n",
      "Student birth: \n",
      "['17/05/2001', '25/11/1998', '25/08/1999']\n",
      "Student height: \n",
      "[175, 163, 182]\n"
     ]
    }
   ],
   "source": [
    "student = [('James', '17/05/2001', '175cm'), ('Alice', '25/11/1998', '163cm'), ('Peter', '25/08/1999', '182cm')]\n",
    "print(student)\n",
    "\n",
    "# student names, birth, height \n",
    "student_names = list(map(lambda x: x[0], student))\n",
    "student_birth = list(map(lambda x: x[1], student))\n",
    "student_height = list(map(lambda x: int(x[2][:-2]), student))\n",
    "\n",
    "print('Student names: ')\n",
    "print(student_names)\n",
    "print('Student birth: ')\n",
    "print(student_birth)\n",
    "print('Student height: ')\n",
    "print(student_height)"
   ]
  },
  {
   "cell_type": "markdown",
   "metadata": {
    "id": "QwzwMaiQ600f"
   },
   "source": [
    "## Exercises \n",
    "\n"
   ]
  },
  {
   "cell_type": "markdown",
   "metadata": {
    "id": "TTTBJ5e8tmvp"
   },
   "source": [
    "### E-1\n",
    "\n",
    "Write a function called `product_all` that accepts arbitrary number of numbers as arguments and computes the product(곱) of those numbers.\n",
    "\n",
    "Result:\n",
    "```\n",
    "a = product_all(1,3,5)\n",
    "print(f'Returned value is {a}')\n",
    ">>>\n",
    "Returned value is 15\n",
    "```"
   ]
  },
  {
   "cell_type": "code",
   "execution_count": 75,
   "metadata": {
    "id": "3hHVhp7Wtu4x"
   },
   "outputs": [],
   "source": [
    "# your code here\n",
    "def product_all(*nums):\n",
    "    result=1\n",
    "    for num in nums:\n",
    "        result*=num        \n",
    "    return result\n"
   ]
  },
  {
   "cell_type": "code",
   "execution_count": 76,
   "metadata": {
    "id": "SM6gIVTbtyGQ"
   },
   "outputs": [
    {
     "name": "stdout",
     "output_type": "stream",
     "text": [
      "Returned value is 15\n",
      "Returned value is -972\n"
     ]
    }
   ],
   "source": [
    "a = product_all(1,3,5)\n",
    "print(f'Returned value is {a}')\n",
    "\n",
    "b = product_all(2,6,3,9,-3)\n",
    "print(f'Returned value is {b}')"
   ]
  },
  {
   "cell_type": "markdown",
   "metadata": {
    "id": "7uvC1RMkuCrB"
   },
   "source": [
    "### E-2\n",
    "\n",
    "Write a function called `power` that takes two parameters $x,y$ and return the powered value $x^y$. We can call this function as follows:\n",
    "\n",
    "- **note**: What happens if only one value is passed?\n",
    "\n",
    "Result:\n",
    "```\n",
    "print(power(3,5))\n",
    "print(power(2,4))\n",
    "print(power(3))\n",
    "print(power(4))\n",
    ">>>\n",
    "243\n",
    "16\n",
    "9\n",
    "16\n",
    "```"
   ]
  },
  {
   "cell_type": "code",
   "execution_count": 79,
   "metadata": {
    "id": "4jQPJtUGtzJd"
   },
   "outputs": [],
   "source": [
    "# your code here:\n",
    "def power(num1,num2=2):\n",
    "    return num1**num2\n"
   ]
  },
  {
   "cell_type": "code",
   "execution_count": 81,
   "metadata": {
    "id": "Do_FV0bjuZpI"
   },
   "outputs": [
    {
     "name": "stdout",
     "output_type": "stream",
     "text": [
      "243\n",
      "16\n",
      "9\n",
      "16\n"
     ]
    }
   ],
   "source": [
    "# test the result:\n",
    "print(power(3,5))\n",
    "print(power(2,4))\n",
    "print(power(3))\n",
    "print(power(4))"
   ]
  },
  {
   "cell_type": "markdown",
   "metadata": {
    "id": "RV6aji7noDXn"
   },
   "source": [
    "### E-3\n",
    "\n",
    "Write a recursive function `recur_list_sum` that calculates the sum of all list elements.\n",
    "\n",
    "**hint**: you need to check whether the type of each element is \"list\" or not to decide to call the function again or not!\n",
    "\n",
    "Expected results:\n",
    "```\n",
    "print(recur_list_sum( [1,2,[3,4],[5,6,7]] ))\n",
    ">>\n",
    "28\n",
    "```"
   ]
  },
  {
   "cell_type": "code",
   "execution_count": 135,
   "metadata": {
    "id": "dN5v8XLooEsL"
   },
   "outputs": [],
   "source": [
    "# your code here\n",
    "def recur_list_sum(*a):\n",
    "    sum=0\n",
    "    for i in a:\n",
    "        for j in i:\n",
    "            if type(j)!= list:\n",
    "                sum+=j\n",
    "            else:\n",
    "                for k in j:\n",
    "                    sum+=k\n",
    "    return sum"
   ]
  },
  {
   "cell_type": "code",
   "execution_count": 136,
   "metadata": {
    "id": "zJjX6lLbpCAH"
   },
   "outputs": [
    {
     "name": "stdout",
     "output_type": "stream",
     "text": [
      "28\n"
     ]
    }
   ],
   "source": [
    "print(recur_list_sum( [1,2,[3,4],[5,6,7]] ))"
   ]
  },
  {
   "cell_type": "markdown",
   "metadata": {
    "id": "5yUeuECcpnfO"
   },
   "source": [
    "### E-4\n",
    "\n",
    "Write a recursive function `fibonacci` that solves the Fibonaci sequence: `fibonacci(7)` returns 7th Fibonacci number.\n",
    "\n",
    "**note** 피보나치 수열: 첫째 및 둘째 항이 1, 그 뒤의 모든 항은 바로 앞 두 항의 합인 수열: `1,1,2,3,5,8,13,21, ... `\n",
    "\n",
    "Expected results:\n",
    "```\n",
    "print(fibonacci(4))\n",
    "print(fibonacci(8))\n",
    ">>>\n",
    "3\n",
    "21\n",
    "```"
   ]
  },
  {
   "cell_type": "code",
   "execution_count": 137,
   "metadata": {
    "id": "WyAZxxUcpOrl"
   },
   "outputs": [],
   "source": [
    "# your code here\n",
    "def fibonacci(n):\n",
    "    if n==1or n==2:\n",
    "        return 1\n",
    "    else:\n",
    "        return fibonacci(n-1)+fibonacci(n-2)\n"
   ]
  },
  {
   "cell_type": "code",
   "execution_count": 139,
   "metadata": {
    "id": "lyj7Gry_qWkj"
   },
   "outputs": [
    {
     "name": "stdout",
     "output_type": "stream",
     "text": [
      "3\n",
      "21\n"
     ]
    }
   ],
   "source": [
    "print(fibonacci(4))\n",
    "print(fibonacci(8))"
   ]
  },
  {
   "cell_type": "markdown",
   "metadata": {
    "id": "knBpzPf164IJ"
   },
   "source": [
    "### E-5\n",
    "\n",
    "Define a function `quadratic` that computes $ax^2+bx+c$ as a result when taking input values $x,a,b,c$.\n",
    "\n",
    "Also, convert it into a lambda function form and assign it to a variable called `quad`.\n",
    "\n",
    "Expected results:\n",
    "```\n",
    "print(quadratic(10,2,1,2))\n",
    "print(quad(10,2,1,2))\n",
    ">>\n",
    "212\n",
    "212\n",
    "```"
   ]
  },
  {
   "cell_type": "code",
   "execution_count": 140,
   "metadata": {
    "id": "j3ZN_gwK8C2Q"
   },
   "outputs": [],
   "source": [
    "# your code here: normal function 'quadratic'\n",
    "def quadratic(x,a,b,c):\n",
    "    return a*x**2+b*x+c\n",
    "    \n"
   ]
  },
  {
   "cell_type": "code",
   "execution_count": 147,
   "metadata": {
    "id": "7NLWcnKM8isa"
   },
   "outputs": [
    {
     "data": {
      "text/plain": [
       "'\\nlambda function\\nprint(lambda x,y: x**y)\\n\\na = lambda x,y: x**y\\nprint(a(3,4))\\n'"
      ]
     },
     "execution_count": 147,
     "metadata": {},
     "output_type": "execute_result"
    }
   ],
   "source": [
    "# your code here: lambda function 'quad'\n",
    "quad=lambda x,a,b,c:(a*x**2+b*x+c)\n",
    "\n",
    "'''\n",
    "lambda function\n",
    "print(lambda x,y: x**y)\n",
    "\n",
    "a = lambda x,y: x**y\n",
    "print(a(3,4))\n",
    "'''"
   ]
  },
  {
   "cell_type": "code",
   "execution_count": 148,
   "metadata": {
    "id": "f-Wa_Yg-2MVj"
   },
   "outputs": [
    {
     "name": "stdout",
     "output_type": "stream",
     "text": [
      "212\n",
      "212\n"
     ]
    }
   ],
   "source": [
    "# test the result\n",
    "print(quadratic(10,2,1,2))\n",
    "print(quad(10,2,1,2))"
   ]
  },
  {
   "cell_type": "markdown",
   "metadata": {
    "id": "QEgkqV9s_zSR"
   },
   "source": [
    "### E-6\n",
    "\n",
    "Write a function that takes two lists `lst_1` and `lst_2`, and remove all elements from a `lst_1` present in `lst_2`, using lambda.\n",
    "\n",
    "```\n",
    "lst_1 = [1,2,3,4,5,6,7,8,9,10]\n",
    "lst_2 = [2,4,6,8]\n",
    "\n",
    "print('List 1: ', lst_1)\n",
    "print('List 2: ', lst_2)\n",
    "print('Remove all elements from lst_1 present in lst_2: ', remove_by_filter(lst_1, lst_2))\n",
    ">>\n",
    "List 1:  [1, 2, 3, 4, 5, 6, 7, 8, 9, 10]\n",
    "List 2:  [2, 4, 6, 8]\n",
    "Remove all elements from lst_1 present in lst_2:  [1, 3, 5, 7, 9, 10]\n",
    "```"
   ]
  },
  {
   "cell_type": "code",
   "execution_count": 156,
   "metadata": {
    "id": "9hsjb3snAH74"
   },
   "outputs": [],
   "source": [
    "def remove_by_filter(lst_1, lst_2):\n",
    "  # your code here (use lambda)\n",
    "    #람다 안썻을때\n",
    "    '''for i in lst_2:\n",
    "        if i in lst_1:\n",
    "            lst_1.remove(i)\n",
    "    return lst_1\n",
    "  '''\n",
    "#람다\n",
    "    new_lst=list(filter(lambda x: x not in lst_2,lst_1))\n",
    "    return new_lst"
   ]
  },
  {
   "cell_type": "code",
   "execution_count": 157,
   "metadata": {
    "id": "lIaORPvcALwN"
   },
   "outputs": [
    {
     "name": "stdout",
     "output_type": "stream",
     "text": [
      "List 1:  [1, 2, 3, 4, 5, 6, 7, 8, 9, 10]\n",
      "List 2:  [2, 4, 6, 8]\n",
      "Remove all elements from lst_1 present in lst_2:  [1, 3, 5, 7, 9, 10]\n"
     ]
    }
   ],
   "source": [
    "lst_1 = [1,2,3,4,5,6,7,8,9,10]\n",
    "lst_2 = [2,4,6,8]\n",
    "\n",
    "print('List 1: ', lst_1)\n",
    "print('List 2: ', lst_2)\n",
    "print('Remove all elements from lst_1 present in lst_2: ', remove_by_filter(lst_1, lst_2))"
   ]
  },
  {
   "cell_type": "code",
   "execution_count": null,
   "metadata": {},
   "outputs": [],
   "source": []
  }
 ],
 "metadata": {
  "colab": {
   "authorship_tag": "ABX9TyMHzE31NjL6yy8yZsZmyWYP",
   "collapsed_sections": [],
   "provenance": [],
   "toc_visible": true
  },
  "kernelspec": {
   "display_name": "Python 3 (ipykernel)",
   "language": "python",
   "name": "python3"
  },
  "language_info": {
   "codemirror_mode": {
    "name": "ipython",
    "version": 3
   },
   "file_extension": ".py",
   "mimetype": "text/x-python",
   "name": "python",
   "nbconvert_exporter": "python",
   "pygments_lexer": "ipython3",
   "version": "3.9.12"
  }
 },
 "nbformat": 4,
 "nbformat_minor": 1
}
