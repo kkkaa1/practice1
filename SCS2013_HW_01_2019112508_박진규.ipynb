{
 "cells": [
  {
   "cell_type": "markdown",
   "metadata": {
    "id": "GIZlRcJloOhl"
   },
   "source": [
    "# SCS2013 Python Programming Homework 1 (100pts)\n",
    "\n",
    "About Variables, Data Types, basic Operators, and Strings!\n"
   ]
  },
  {
   "cell_type": "markdown",
   "metadata": {
    "id": "edupFbFOSS-8"
   },
   "source": [
    "## HW 1-1. Variables (변수) (15pts)\n",
    "\n",
    "Instruction:\n",
    "1. **(5pt)** `name`, `age`, `speed`, `answer` 변수를 생성하고 각각 string, int, float, boolean 타입의 값 (Eric, 74, 13.5, False) 을 할당하세요.\n",
    "\n",
    "  - Create variables `name`, `age`, `speed`, `answer` and assign string, int, float, boolean values (Eric, 74, 13.5, False) respectively.\n",
    "\n",
    "2. **(5pt)** type() 함수를 통해 각 변수의 자료형을 확인하고 출력하세요.\n",
    "  - Check and print data type of each variable by using type().\n",
    "  \n",
    "3. **(5pt)** 생성한 변수를 f-string 포매팅을 사용해 다음의 문장으로 출력하세요. (줄바꿈에 유의하세요)\n",
    "  - Print following sentence by using f-string and all the variables you created above. (Note that we have a line break)\n",
    "\n",
    "  ```\n",
    "  Hello Eric, you are 74 years old. We heard that you run 13.5km per hour. Is that true? \n",
    "  False\n",
    "  ```"
   ]
  },
  {
   "cell_type": "code",
   "execution_count": 55,
   "metadata": {
    "id": "4xtd-ytFROwv"
   },
   "outputs": [
    {
     "name": "stdout",
     "output_type": "stream",
     "text": [
      "<class 'str'>\n",
      "<class 'int'>\n",
      "<class 'float'>\n",
      "<class 'bool'>\n",
      "Hello Eric, you are 74 years old. We heard that you run 13.5km per hour. Is that true?\n",
      "False\n"
     ]
    }
   ],
   "source": [
    "# your code here\n",
    "# 1\n",
    "name='Eric'\n",
    "age=74\n",
    "speed=13.5\n",
    "answer=False\n",
    "\n",
    "# 2\n",
    "print(type(name))\n",
    "print(type(age))\n",
    "print(type(speed))\n",
    "print(type(answer))\n",
    "\n",
    "# 3\n",
    "\n",
    "print(\"Hello {}, you are {} years old. We heard that you run {}km per hour. Is that true?\\n{}\".format(name,age,speed,answer))\n"
   ]
  },
  {
   "cell_type": "markdown",
   "metadata": {
    "id": "QR4DKh1VYgLm"
   },
   "source": [
    "## HW 1-2. Mathematical operators (20pts)\n",
    "\n",
    "Instruction: \n",
    "1. **(5pt)** $20$ 나누기 $4$ 의 결과를 저장하는 변수 `a`를 선언하세요. (모든 결과는 출력해주세요)\n",
    "\n",
    "  * **note**: 값이 5인가요 5.0 인가요? type()을 출력해보세요.\n",
    "  * Create a variable `a` and set it equal to $20$ divided by $4$ (note: Is the value 5 or 5.0? Please check by using type())\n",
    "\n",
    "2. **(5pt)** $24$를 $7$로 나눈 **나머지를** 저장하는 변수 `b`를 선언하세요.\n",
    "  * Create a variable `b` and set it equal to the remainder from dividing $24$ by $7$\n",
    "\n",
    "2. **(10pt)** $1 + 3 \\times 2^4$ 를 계산하여 저장하는 변수 `c`를 선언하세요. \n",
    "  * Create a variable `c` and set it equal to the value of $1 + 3 \\times 2^4$\n",
    "\n",
    "**Hint**: You need to use mathematical operators (`* - / + % **`) for this to work.\n"
   ]
  },
  {
   "cell_type": "code",
   "execution_count": 56,
   "metadata": {
    "id": "6P5CYd4nROwx"
   },
   "outputs": [
    {
     "name": "stdout",
     "output_type": "stream",
     "text": [
      "5.0\n",
      "<class 'float'>\n",
      "3 \n",
      " <class 'int'>\n",
      "49 \n",
      " <class 'int'>\n"
     ]
    }
   ],
   "source": [
    "# your code here\n",
    "# 1\n",
    "a=20/4\n",
    "print(a)\n",
    "print(type(a))\n",
    "# 2\n",
    "b=24%7\n",
    "print(b,\"\\n\",type(b))\n",
    "\n",
    "# 3\n",
    "c=1+3*2**4\n",
    "print(c,\"\\n\",type(c))"
   ]
  },
  {
   "cell_type": "markdown",
   "metadata": {
    "id": "Av0FlUTGaIVO"
   },
   "source": [
    "## HW 1-3. Comparison, Logical operators (20pts)\n",
    "\n",
    "1. **(5pt)** 아래 코드의 `x`,`y`,`z`를 사용하여 계산을 하고자 하는데 `x`와 `y`는 계산 불가한 `string` 형태입니다. 이후의 연산이 가능하도록 두 변수를 `int` 형태로 변환하세요.\n",
    "  * From variables `x`,`y`,`z` below, `x` and `y` are `string` type. Cast them into `int` type for further mathmatical operations.\n",
    "\n",
    "2. **(6pt)** $\\frac{x+y}{z}$ 를 계산하여 `result`에 저장하여 값이 $1$보다 작은지 확인하세요. (각 결과는 출력하세요)\n",
    "  * Compute $\\frac{x+y}{z}$ and set the resulting value to a variable `result`. Check if `result` is less than $1$\n",
    "\n",
    "3. **(3pt)** `result`의 값이 $30$ 이상인지 확인하세요.\n",
    "  * Check if `result` is greater than or equal to $30$\n",
    "\n",
    "4. **(3pt)** `result`의 값이 $9$의 배수인지 확인하세요.\n",
    "  * Check if `result` is a multiple of $9$\n",
    "\n",
    "4. **(3pt)** `result`의 값이 $22$인지 확인하세요.\n",
    "  * Check if `result` is equal to $22$"
   ]
  },
  {
   "cell_type": "code",
   "execution_count": 59,
   "metadata": {
    "id": "uauHlb7HROwy"
   },
   "outputs": [
    {
     "name": "stdout",
     "output_type": "stream",
     "text": [
      "<class 'int'> <class 'int'>\n",
      "22.0\n",
      "False\n",
      "False\n",
      "False\n",
      "True\n"
     ]
    }
   ],
   "source": [
    "x = \"11\"\n",
    "y = \"33\"\n",
    "z = 2\n",
    "\n",
    "# your code here\n",
    "#===============================\n",
    "# 1\n",
    "x=int(x)\n",
    "y=int(y)\n",
    "print(type(x),type(y))\n",
    "# 2\n",
    "result=(x+y)/2\n",
    "print(result)\n",
    "print(result<1)\n",
    "\n",
    "# 3\n",
    "print(result>=30)\n",
    "\n",
    "# 4\n",
    "print(result%9==0)\n",
    "\n",
    "# 5\n",
    "print(result==22)\n",
    "\n",
    "#==============================="
   ]
  },
  {
   "cell_type": "markdown",
   "metadata": {
    "id": "LUOA9rvtROwy"
   },
   "source": [
    "## HW 1-4. Strings (25pts)\n",
    "아래에 `sentence`에 저장된 문장에는 오타와 문법적 오류가 존재합니다. indexing, slicing, string method를 통해 해결해보세요. (**note**: `sentence`의 내용 자체가 수정되어야 합니다.)\n",
    "\n",
    "`sentence` below contains typos and grammar issues. Correct them with indexing, slicing, and string methods. (**note**: `sentence` itself should be modified accordingly.)\n",
    "\n",
    "1. **(5pt)** 'too'는 오타이므로 o를 제거해야합니다. slicing과 +를 사용해 제거하세요. (매 과정마다 결과를 출력하세요)\n",
    "  *  'too' is a typo. Use slicing and + operator to remove 'o' from the word.\n",
    "\n",
    "2. **(5pt)** ourself 는 ourselves로 교체되어야 합니다. replace()를 사용해 교체하세요.\n",
    "  * Replace 'ourself' with 'ourselves with replace()'\n",
    "\n",
    "3. **(5pt)** 영문장은 대문자로 시작해야 합니다. capitalize() 를 사용해 수정하세요.\n",
    "  * English sentence should start with a capital letter. Capitalize `sentence` with capitalize()\n",
    "\n",
    "4. **(5pt)** 문장의 마지막에 마침표가 없습니다. 마침표를 추가하세요.\n",
    "  * Punctuation is missing at the end of `sentence`. Add one.\n",
    "\n",
    "5. **(5pt)** 문장이 몇개의 단어로 이루어졌는지 구하세요. (단어의 기준: 공백)\n",
    "  * Count the number of words in the `sentence`. (words are sepererated with space) \n",
    "\n",
    "올바른 문장 결과: \n",
    "```It is not in the stars to hold our destiny but in ourselves.```"
   ]
  },
  {
   "cell_type": "code",
   "execution_count": 39,
   "metadata": {
    "id": "usk1eoaHROwz"
   },
   "outputs": [
    {
     "name": "stdout",
     "output_type": "stream",
     "text": [
      "23\n",
      "it is not in the stars to hold our destiny but in ourself\n",
      "it is not in the stars to hold our destiny but in ourselves\n",
      "It is not in the stars to hold our destiny but in ourselves\n",
      "It is not in the stars to hold our destiny but in ourselves.\n",
      "13\n"
     ]
    }
   ],
   "source": [
    "sentence = \"it is not in the stars too hold our destiny but in ourself\"\n",
    "\n",
    "# your code here\n",
    "#===============================\n",
    "# 1\n",
    "print(sentence.find('too'))\n",
    "number=sentence.find('too')\n",
    "sentence=(sentence[0:number+2]+sentence[26:])\n",
    "print(sentence)\n",
    "# 2\n",
    "sentence=sentence.replace(\"ourself\",\"ourselves\")\n",
    "print(sentence)\n",
    "# 3\n",
    "sentence=sentence.capitalize()\n",
    "print(sentence)\n",
    "# 4\n",
    "sentence=sentence+'.'\n",
    "print(sentence)\n",
    "\n",
    "# 5\n",
    "words=(sentence.split(' '))\n",
    "print(len(words))\n",
    "#==============================="
   ]
  },
  {
   "cell_type": "markdown",
   "metadata": {
    "id": "Eis110oFb_WX"
   },
   "source": [
    "## HW 1-5. Strings (20pts)\n",
    "\n",
    "다음의 `my_str`의 문자열을 slicing을 사용하여 3개의 문자열로 분리하고, 정렬 (alignment) 하여 출력하세요. \n",
    "\n",
    "1. **(5pt)** `str_a`, `str_b`, `str_c`는 휴대폰 번호의 앞3자리, 중간 4자리, 끝 4자리를 문자열의 형태로 가지도록 만드세요: 직접 값을 할당하는 것이 아니라 `my_str`을 slicing하여 가져와야 합니다. \n",
    "  * Separate `my_str` into 3 strings: `str_a` has the first 3 numbers, `str_b` has the middle 4 numbers, `str_c` has the last 4 numbers (by using slicing)\n",
    "\n",
    "2. **(5pt)** `str_a`는 전체 길이 7로 출력하되 왼쪽 정렬하고 빈 공간은 `@`로 채웁니다. \n",
    "  * Print `str_a`: it should be left aligned and blank space filled with '@', with total length $7$\n",
    "\n",
    "3. **(5pt)** `str_b`는 전체 길이 7로 출력하되 가운데 정렬하고 빈 공간은 `!`로 채웁니다. \n",
    "  * Print `str_b`: it should be middle aligned and blank space filled with '!', with total length $7$\n",
    "\n",
    "4. **(5pt)** `str_c`는 전체 길이 7로 출력하되 오른쪽 정렬하고 빈 공간은 `&`로 채웁니다.\n",
    "  * Print `str_c`: it should be right aligned and blank space filled with '&', with total length $7$\n",
    "\n",
    "실행 결과: \n",
    "```\n",
    "010@@@@\n",
    "!2468!!\n",
    "&&&1357\n",
    "```\n",
    "\n"
   ]
  },
  {
   "cell_type": "code",
   "execution_count": 63,
   "metadata": {
    "id": "XEKKz8ZqgAYj"
   },
   "outputs": [
    {
     "name": "stdout",
     "output_type": "stream",
     "text": [
      "010@@@@\n",
      "!2468!!\n",
      "%%%1357\n"
     ]
    }
   ],
   "source": [
    "my_str = '010-2468-1357'\n",
    "\n",
    "# your code here\n",
    "#===============================\n",
    "# 1\n",
    "str_a=my_str[:3]\n",
    "\n",
    "str_b=my_str[4:8]\n",
    "\n",
    "str_c=my_str[9:]\n",
    "\n",
    "\n",
    "\n",
    "# 2\n",
    "print(f'{str_a:@<7}')\n",
    "\n",
    "# 3\n",
    "print(f'{str_b:!^7}')\n",
    "\n",
    "# 4\n",
    "print(f'{str_c:%>7}')\n",
    "\n",
    "#==============================="
   ]
  }
 ],
 "metadata": {
  "colab": {
   "collapsed_sections": [],
   "provenance": [],
   "toc_visible": true
  },
  "kernelspec": {
   "display_name": "Python 3 (ipykernel)",
   "language": "python",
   "name": "python3"
  },
  "language_info": {
   "codemirror_mode": {
    "name": "ipython",
    "version": 3
   },
   "file_extension": ".py",
   "mimetype": "text/x-python",
   "name": "python",
   "nbconvert_exporter": "python",
   "pygments_lexer": "ipython3",
   "version": "3.9.12"
  },
  "vscode": {
   "interpreter": {
    "hash": "4f47db039316e8c8cb83e1a6b80f71475094dc18f64932e6ee413cb9548e859d"
   }
  }
 },
 "nbformat": 4,
 "nbformat_minor": 1
}
